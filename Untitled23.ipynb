{
 "cells": [
  {
   "cell_type": "code",
   "execution_count": 1,
   "id": "73c8916d",
   "metadata": {},
   "outputs": [],
   "source": [
    "import speech_recognition as sr\n",
    "from gtts import gTTS\n",
    "import os\n",
    "import re\n"
   ]
  },
  {
   "cell_type": "code",
   "execution_count": null,
   "id": "039be465",
   "metadata": {},
   "outputs": [
    {
     "name": "stdout",
     "output_type": "stream",
     "text": [
      "Say something...\n",
      "You said: 2 + 2 is equal to 4\n",
      "Say something...\n",
      "Could not understand audio.\n",
      "Say something...\n"
     ]
    }
   ],
   "source": [
    "# Initialize the recognizer\n",
    "recognizer = sr.Recognizer()\n",
    "\n",
    "# Function to perform calculations\n",
    "def calculate_expression(expression):\n",
    "    try:\n",
    "        result = eval(expression)\n",
    "        return str(result)\n",
    "    except Exception as e:\n",
    "        return \"Error\"\n",
    "\n",
    "# Function to speak a text\n",
    "def speak(text):\n",
    "    tts = gTTS(text)\n",
    "    tts.save(\"output.mp3\")\n",
    "    os.system(\"mpg123 output.mp3\")\n",
    "\n",
    "# Main loop\n",
    "while True:\n",
    "    try:\n",
    "        with sr.Microphone() as source:\n",
    "            print(\"Say something...\")\n",
    "            audio = recognizer.listen(source)\n",
    "            text = recognizer.recognize_google(audio).lower()\n",
    "            print(\"You said: \" + text)\n",
    "\n",
    "            if re.search(r'(add|plus)', text):\n",
    "                text = re.sub(r'(add|plus)', '+', text)\n",
    "            elif re.search(r'(subtract|minus)', text):\n",
    "                text = re.sub(r'(subtract|minus)', '-', text)\n",
    "            elif re.search(r'(multiply|times)', text):\n",
    "                text = re.sub(r'(multiply|times)', '*', text)\n",
    "            elif re.search(r'(divide)', text):\n",
    "                text = re.sub(r'(divide)', '/', text)\n",
    "            elif re.search(r'(quit|exit)', text):\n",
    "                break\n",
    "\n",
    "            result = calculate_expression(text)\n",
    "            speak(\"The result is \" + result)\n",
    "\n",
    "    except sr.UnknownValueError:\n",
    "        print(\"Could not understand audio.\")\n",
    "    except sr.RequestError as e:\n",
    "        print(\"Could not request results; {0}\".format(e))"
   ]
  },
  {
   "cell_type": "code",
   "execution_count": null,
   "id": "b3486c78",
   "metadata": {},
   "outputs": [],
   "source": []
  }
 ],
 "metadata": {
  "kernelspec": {
   "display_name": "Python 3 (ipykernel)",
   "language": "python",
   "name": "python3"
  },
  "language_info": {
   "codemirror_mode": {
    "name": "ipython",
    "version": 3
   },
   "file_extension": ".py",
   "mimetype": "text/x-python",
   "name": "python",
   "nbconvert_exporter": "python",
   "pygments_lexer": "ipython3",
   "version": "3.11.4"
  }
 },
 "nbformat": 4,
 "nbformat_minor": 5
}
